{
 "cells": [
  {
   "cell_type": "code",
   "execution_count": 20,
   "metadata": {},
   "outputs": [],
   "source": [
    "from PIL import Image\n",
    "import numpy as np"
    ""
   ]
  },
  {
   "cell_type": "code",
   "execution_count": 21,
   "metadata": {},
   "outputs": [],
   "source": [
    "image = Image.open('westbrook.jpg')"
   ]
  },
  {
   "cell_type": "code",
   "execution_count": 50,
   "metadata": {},
   "outputs": [
    {
     "name": "stdout",
     "output_type": "stream",
     "text": [
      "(1920, 1080)\n"
     ]
    },
    {
     "ename": "KeyError",
     "evalue": "'Q2.JPG'",
     "output_type": "error",
     "traceback": [
      "\u001b[0;31m---------------------------------------------------------------------------\u001b[0m",
      "\u001b[0;31mKeyError\u001b[0m                                  Traceback (most recent call last)",
      "\u001b[0;32m<ipython-input-50-7ce179c42e18>\u001b[0m in \u001b[0;36m<module>\u001b[0;34m()\u001b[0m\n\u001b[1;32m      1\u001b[0m \u001b[0mprint\u001b[0m\u001b[0;34m(\u001b[0m\u001b[0mimage\u001b[0m\u001b[0;34m.\u001b[0m\u001b[0msize\u001b[0m\u001b[0;34m)\u001b[0m\u001b[0;34m\u001b[0m\u001b[0m\n\u001b[1;32m      2\u001b[0m \u001b[0mimage\u001b[0m \u001b[0;34m=\u001b[0m \u001b[0mimage\u001b[0m\u001b[0;34m.\u001b[0m\u001b[0mpoint\u001b[0m\u001b[0;34m(\u001b[0m\u001b[0;32mlambda\u001b[0m \u001b[0mi\u001b[0m\u001b[0;34m:\u001b[0m \u001b[0;34m(\u001b[0m\u001b[0mi\u001b[0m\u001b[0;34m*\u001b[0m\u001b[0;36m0.5\u001b[0m\u001b[0;34m)\u001b[0m\u001b[0;34m)\u001b[0m\u001b[0;34m\u001b[0m\u001b[0m\n\u001b[0;32m----> 3\u001b[0;31m \u001b[0mimage\u001b[0m\u001b[0;34m.\u001b[0m\u001b[0msave\u001b[0m\u001b[0;34m(\u001b[0m\u001b[0mimage\u001b[0m\u001b[0;34m,\u001b[0m\u001b[0;34m'Q2.jpg'\u001b[0m\u001b[0;34m)\u001b[0m\u001b[0;34m\u001b[0m\u001b[0m\n\u001b[0m",
      "\u001b[0;32m/usr/local/lib/python3.6/site-packages/PIL/Image.py\u001b[0m in \u001b[0;36msave\u001b[0;34m(self, fp, format, **params)\u001b[0m\n\u001b[1;32m   1920\u001b[0m             \u001b[0msave_handler\u001b[0m \u001b[0;34m=\u001b[0m \u001b[0mSAVE_ALL\u001b[0m\u001b[0;34m[\u001b[0m\u001b[0mformat\u001b[0m\u001b[0;34m.\u001b[0m\u001b[0mupper\u001b[0m\u001b[0;34m(\u001b[0m\u001b[0;34m)\u001b[0m\u001b[0;34m]\u001b[0m\u001b[0;34m\u001b[0m\u001b[0m\n\u001b[1;32m   1921\u001b[0m         \u001b[0;32melse\u001b[0m\u001b[0;34m:\u001b[0m\u001b[0;34m\u001b[0m\u001b[0m\n\u001b[0;32m-> 1922\u001b[0;31m             \u001b[0msave_handler\u001b[0m \u001b[0;34m=\u001b[0m \u001b[0mSAVE\u001b[0m\u001b[0;34m[\u001b[0m\u001b[0mformat\u001b[0m\u001b[0;34m.\u001b[0m\u001b[0mupper\u001b[0m\u001b[0;34m(\u001b[0m\u001b[0;34m)\u001b[0m\u001b[0;34m]\u001b[0m\u001b[0;34m\u001b[0m\u001b[0m\n\u001b[0m\u001b[1;32m   1923\u001b[0m \u001b[0;34m\u001b[0m\u001b[0m\n\u001b[1;32m   1924\u001b[0m         \u001b[0;32mif\u001b[0m \u001b[0mopen_fp\u001b[0m\u001b[0;34m:\u001b[0m\u001b[0;34m\u001b[0m\u001b[0m\n",
      "\u001b[0;31mKeyError\u001b[0m: 'Q2.JPG'"
     ]
    }
   ],
   "source": [
    "print(image.size)\n",
    "image = image.point(lambda i: (i*0.5))\n",
    "image.save('Q2.jpg')"
   ]
  },
  {
   "cell_type": "code",
   "execution_count": 49,
   "metadata": {},
   "outputs": [
    {
     "name": "stdout",
     "output_type": "stream",
     "text": [
      "(1920, 1080)\n",
      "(1080, 1920, 3)\n",
      "[[[ 5  4  7]\n",
      "  [ 5  4  7]\n",
      "  [ 5  4  7]\n",
      "  ...\n",
      "  [15 13 25]\n",
      "  [16 14 26]\n",
      "  [15 14 23]]\n",
      "\n",
      " [[ 5  5  8]\n",
      "  [ 4  3  6]\n",
      "  [ 4  3  6]\n",
      "  ...\n",
      "  [15 13 26]\n",
      "  [16 13 26]\n",
      "  [15 12 24]]\n",
      "\n",
      " [[ 5  4  7]\n",
      "  [ 4  3  6]\n",
      "  [ 4  3  6]\n",
      "  ...\n",
      "  [17 12 26]\n",
      "  [16 11 25]\n",
      "  [16 11 26]]\n",
      "\n",
      " ...\n",
      "\n",
      " [[ 9  8 14]\n",
      "  [10  9 15]\n",
      "  [11 10 16]\n",
      "  ...\n",
      "  [ 4  3  3]\n",
      "  [ 4  3  3]\n",
      "  [ 4  3  3]]\n",
      "\n",
      " [[ 9  8 14]\n",
      "  [ 9  9 13]\n",
      "  [10  9 13]\n",
      "  ...\n",
      "  [ 3  2  2]\n",
      "  [ 3  2  3]\n",
      "  [ 3  3  2]]\n",
      "\n",
      " [[ 9  8 14]\n",
      "  [ 9  9 13]\n",
      "  [10 10 14]\n",
      "  ...\n",
      "  [ 3  2  3]\n",
      "  [ 3  2  3]\n",
      "  [ 4  2  2]]]\n"
     ]
    }
   ],
   "source": []
  },
  {
   "cell_type": "code",
   "execution_count": 24,
   "metadata": {},
   "outputs": [
    {
     "name": "stdout",
     "output_type": "stream",
     "text": [
      "(1080, 1920, 3)\n",
      "[[[10  9 15]\n",
      "  [10  9 15]\n",
      "  [10  9 15]\n",
      "  ...\n",
      "  [31 27 50]\n",
      "  [33 29 52]\n",
      "  [31 28 47]]\n",
      "\n",
      " [[11 10 16]\n",
      "  [ 8  7 12]\n",
      "  [ 8  7 13]\n",
      "  ...\n",
      "  [31 27 52]\n",
      "  [32 26 52]\n",
      "  [30 25 48]]\n",
      "\n",
      " [[10  9 14]\n",
      "  [ 8  7 13]\n",
      "  [ 8  7 13]\n",
      "  ...\n",
      "  [34 25 52]\n",
      "  [32 23 50]\n",
      "  [33 22 52]]\n",
      "\n",
      " ...\n",
      "\n",
      " [[19 17 28]\n",
      "  [21 19 30]\n",
      "  [22 20 33]\n",
      "  ...\n",
      "  [ 8  6  7]\n",
      "  [ 8  6  7]\n",
      "  [ 8  6  7]]\n",
      "\n",
      " [[19 17 28]\n",
      "  [19 18 26]\n",
      "  [20 19 27]\n",
      "  ...\n",
      "  [ 6  4  5]\n",
      "  [ 7  5  6]\n",
      "  [ 7  6  4]]\n",
      "\n",
      " [[18 16 29]\n",
      "  [19 18 26]\n",
      "  [21 20 28]\n",
      "  ...\n",
      "  [ 7  5  6]\n",
      "  [ 7  5  6]\n",
      "  [ 9  5  4]]]\n"
     ]
    }
   ],
   "source": [
    "im = np.array(image)\n",
    "print(im.shape)\n",
    "print(im)"
   ]
  },
  {
   "cell_type": "code",
   "execution_count": 39,
   "metadata": {},
   "outputs": [
    {
     "ename": "AttributeError",
     "evalue": "'numpy.ndarray' object has no attribute 'point'",
     "output_type": "error",
     "traceback": [
      "\u001b[0;31m---------------------------------------------------------------------------\u001b[0m",
      "\u001b[0;31mAttributeError\u001b[0m                            Traceback (most recent call last)",
      "\u001b[0;32m<ipython-input-39-f67e72a0706c>\u001b[0m in \u001b[0;36m<module>\u001b[0;34m()\u001b[0m\n\u001b[0;32m----> 1\u001b[0;31m \u001b[0mim\u001b[0m \u001b[0;34m=\u001b[0m \u001b[0mim\u001b[0m\u001b[0;34m.\u001b[0m\u001b[0mpoint\u001b[0m\u001b[0;34m(\u001b[0m\u001b[0;34m)\u001b[0m\u001b[0;34m\u001b[0m\u001b[0m\n\u001b[0m",
      "\u001b[0;31mAttributeError\u001b[0m: 'numpy.ndarray' object has no attribute 'point'"
     ]
    }
   ],
   "source": []
  },
  {
   "cell_type": "code",
   "execution_count": 6,
   "metadata": {},
   "outputs": [
    {
     "data": {
      "text/plain": [
       "array([[[ 5,  4,  7],\n",
       "        [ 5,  4,  7],\n",
       "        [ 5,  4,  7],\n",
       "        ...,\n",
       "        [15, 13, 25],\n",
       "        [16, 14, 26],\n",
       "        [15, 14, 23]],\n",
       "\n",
       "       [[ 5,  5,  8],\n",
       "        [ 4,  3,  6],\n",
       "        [ 4,  3,  6],\n",
       "        ...,\n",
       "        [15, 13, 26],\n",
       "        [16, 13, 26],\n",
       "        [15, 12, 24]],\n",
       "\n",
       "       [[ 5,  4,  7],\n",
       "        [ 4,  3,  6],\n",
       "        [ 4,  3,  6],\n",
       "        ...,\n",
       "        [17, 12, 26],\n",
       "        [16, 11, 25],\n",
       "        [16, 11, 26]],\n",
       "\n",
       "       ...,\n",
       "\n",
       "       [[ 9,  8, 14],\n",
       "        [10,  9, 15],\n",
       "        [11, 10, 16],\n",
       "        ...,\n",
       "        [ 4,  3,  3],\n",
       "        [ 4,  3,  3],\n",
       "        [ 4,  3,  3]],\n",
       "\n",
       "       [[ 9,  8, 14],\n",
       "        [ 9,  9, 13],\n",
       "        [10,  9, 13],\n",
       "        ...,\n",
       "        [ 3,  2,  2],\n",
       "        [ 3,  2,  3],\n",
       "        [ 3,  3,  2]],\n",
       "\n",
       "       [[ 9,  8, 14],\n",
       "        [ 9,  9, 13],\n",
       "        [10, 10, 14],\n",
       "        ...,\n",
       "        [ 3,  2,  3],\n",
       "        [ 3,  2,  3],\n",
       "        [ 4,  2,  2]]])"
      ]
     },
     "execution_count": 6,
     "metadata": {},
     "output_type": "execute_result"
    }
   ],
   "source": [
    "im = im.astype('int64')"
   ]
  },
  {
   "cell_type": "code",
   "execution_count": 25,
   "metadata": {},
   "outputs": [
    {
     "name": "stdout",
     "output_type": "stream",
     "text": [
      "(1080, 1920, 3)\n"
     ]
    }
   ],
   "source": [
    "print(im.shape)\n",
    "image_new = Image.fromarray(im,'RGB')"
   ]
  },
  {
   "cell_type": "code",
   "execution_count": 26,
   "metadata": {},
   "outputs": [
    {
     "name": "stdout",
     "output_type": "stream",
     "text": [
      "None\n",
      "(1920, 1080)\n",
      "RGB\n"
     ]
    }
   ],
   "source": [
    "print(image_new.format)\n",
    "print(image_new.size)\n",
    "print(image_new.mode)"
   ]
  },
  {
   "cell_type": "code",
   "execution_count": 31,
   "metadata": {},
   "outputs": [
    {
     "ename": "TypeError",
     "evalue": "'NoneType' object is not callable",
     "output_type": "error",
     "traceback": [
      "\u001b[0;31m---------------------------------------------------------------------------\u001b[0m",
      "\u001b[0;31mTypeError\u001b[0m                                 Traceback (most recent call last)",
      "\u001b[0;32m<ipython-input-31-c5124af5bfad>\u001b[0m in \u001b[0;36m<module>\u001b[0;34m()\u001b[0m\n\u001b[0;32m----> 1\u001b[0;31m \u001b[0mimage_new\u001b[0m\u001b[0;34m.\u001b[0m\u001b[0mformat\u001b[0m\u001b[0;34m(\u001b[0m\u001b[0;34m'JPEG'\u001b[0m\u001b[0;34m)\u001b[0m\u001b[0;34m\u001b[0m\u001b[0m\n\u001b[0m",
      "\u001b[0;31mTypeError\u001b[0m: 'NoneType' object is not callable"
     ]
    }
   ],
   "source": [
    "image_new.format('JPEG')"
   ]
  },
  {
   "cell_type": "code",
   "execution_count": null,
   "metadata": {},
   "outputs": [],
   "source": []
  }
 ],
 "metadata": {
  "kernelspec": {
   "display_name": "Python 3",
   "language": "python",
   "name": "python3"
  },
  "language_info": {
   "codemirror_mode": {
    "name": "ipython",
    "version": 3
   },
   "file_extension": ".py",
   "mimetype": "text/x-python",
   "name": "python",
   "nbconvert_exporter": "python",
   "pygments_lexer": "ipython3",
   "version": "3.6.3"
  }
 },
 "nbformat": 4,
 "nbformat_minor": 2
}
